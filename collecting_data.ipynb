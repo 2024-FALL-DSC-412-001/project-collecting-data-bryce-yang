{
 "cells": [
  {
   "cell_type": "markdown",
   "metadata": {},
   "source": [
    "# Collecting Data\n",
    "\n",
    "The foundation of your project will be to collect appropriate data for the problem you are trying to solve. There is incredible versatility in how you can use an machine learning model. Some examples might be to predict the next social media trend, categorizing cancer cells, trying to better understand the relationship between temperature fluctuations and coffee bean growth rates, or creating a chat bot.\n",
    "\n",
    "Since we are very early in this course, and - most likely at this point - have not discussed many models, it may be difficult to know what you can do with a dataset, or what is in scope of this course. So by the nature of the course title \"Exploring Machine Learning\" we will take an explorative approach to your project. \n",
    "\n",
    "The goal of this part of the project is to explore what data sets you might be interested in, below will be questions to help guide you to selecting a category of data that you want to further explore."
   ]
  },
  {
   "cell_type": "markdown",
   "metadata": {},
   "source": [
    "## Identifying what data you want to explore\n",
    "\n",
    "Data is everywhere and there seems to be data on about anything. You might know exactly what you want to dive deeper into or you might have no idea. Either way I invite you answer the questions below.\n",
    "\n",
    "Below create a python dictionary with the key being a short summary of the topic of interest, while the value is an explanation of your interest - such as why you are interested in this topic, or why do you feel a strong passion to understand this topic. A topic of interest could be research you are conducting, a topic you are studying at your job, hobbies you have or topics surrounding your identities.\n",
    "\n",
    "List 5 topics, and for each topic put at least a 50 word description.\n",
    "\n",
    "For example I might put:\n",
    "\n",
    "```python\n",
    "interests = {\n",
    "    \"Cats\" : \"I have two cats at home, they are basically my children. I would generally like to learn more about cat behavior, health trends and pet owner behavior. It may be interesting to also see industry trends of cat owner, or how they compare to dog owners. Maybe later I want to start to write an app that recognizes cat breeds\",\n",
    "\n",
    "    \"Scuba\" : \"The study of scuba diving seems to be a 'soft' science, and there are general guidelines on when and how long you should do safety stops to avoid getting decompression sickness. Could there be links to human anatomy or behavior on how deep a person should go safely during a dive?\",\n",
    "}\n",
    "```"
   ]
  },
  {
   "cell_type": "code",
   "execution_count": 1,
   "metadata": {},
   "outputs": [
    {
     "name": "stdout",
     "output_type": "stream",
     "text": [
      "This is an       extended string \n"
     ]
    }
   ],
   "source": [
    "# Do not edit the name of this function, it will be used for grading\n",
    "def what_are_topics_you_are_interested_in():\n",
    "    interests = {\n",
    "\n",
    "\n",
    "        \"Rock Climbing\" : \"I have a deep passion for rock climbing, I've been doing it for just about six years now. \\\n",
    "            I am constantly wondering about what optimal training would look like for climbing, and would love to learn more about how \\\n",
    "            different body types perform on certain routes. In the future I would like to be able to identify relationships between bodily factors \\\n",
    "            and climbing performance, as well as what training routines output the highest performance.\",\n",
    "\n",
    "        \"Music\" : \"Music has been an integral part of my life for as long as I could remember - in fact, I'm listening to music as I type this. It \\\n",
    "            doesn't take a data scientist to recognize there's a correlation with personality and what kind of music a person listens to, but I \\\n",
    "            am curious if there would be a way to scientifically predict qualities of a person based on their top genres. I would be interested in \\\n",
    "            gathering data on academic success and the type of music someone listens to.\",\n",
    "        \n",
    "        \"Education\" : \"As a full-time student, education is at the forefront of my life. As I spend more time in school, I wonder how I could be \\\n",
    "            improving my efficiency. There are so many factors that play into academic performance, but one of the ones I'm most curious about is \\\n",
    "            note taking techniques. I wonder how important tools like Notion and Obsidian are, as well as strategies like Cornell notes and \\\n",
    "            mind-mapping.\",\n",
    "\n",
    "        \"Company Optimization\" : \"As someone passionate about data science, I would like to complete a project that aligns more closely with what I \\\n",
    "            might be doing in industry. I would love to work with a local company and help them optimize their profits. I could imagine this could be \\\n",
    "            possible through predictive analytics, figuring out what times of the year are correlated with an increased demand for certain products. \\\n",
    "                I just looked into this a bit and it seems like digital analytics and customer targeting are two important ways to boost a small \\\n",
    "                    company through analytics.\",\n",
    "\n",
    "        \"Environmentalism\" : \"As someone who spends most of my free time in the outdoors, there are few things I like seeing less than litter. I \\\n",
    "            would be very interested in creating a project that positively contributes to the cleaning of our environment, and I believe this could be \\\n",
    "            accomplished through data science. I would be interested in analyzing the many factors in an area that may correlate with increased litter, \\\n",
    "            so volunteer organizations like the Carolina Climber's Coalition could designate volunteers accordingly.\"\n",
    "\n",
    "    } # Fill out your interests\n",
    "    return interests\n",
    "# Note: you can use the \\ symbol to continue your string to the next line, this makes \n",
    "# things look a bit prettier\n",
    "# Example:\n",
    "print(\"This is an \\\n",
    "      extended string \")"
   ]
  },
  {
   "cell_type": "markdown",
   "metadata": {},
   "source": [
    "## Do datasets exist for my interests?\n",
    "\n",
    "There is lots of data out there but not for everything. Below are some websites where you can take a look at available datasets. Go ahead and search for datasets related to your topic. Are there many data sets surrounding your topic? Are there many different types of data like categorical, regression, images, etc? If there are limited data sets, do you feel comfortable with the challenge of creating your own data? (Note creating your own data set to supplement existing datasets will increase your score on this assignment)\n",
    "\n",
    "> You can find a link to databases on the course page!\n",
    "\n",
    "For 3 of your topics find 3 databases you might want to use for your project. Below create a dictionary with the keys being the topic values you listed above and the value a link of 3 data bases you would like to explore. If you would like to make your own data too make add a string \"Create my own data\" to the end of the list\n",
    "\n",
    "Note, if you have trouble finding datasets for your topic you can make your dataset more general, or try a different topic. For example for my \"Cats\" topic I could expand it to \"Pets\", \"Pet Toy Sales\" or \"Pet Health Benefits\"\n",
    "\n",
    "You can always change your topic and dataset later, so don't feel that these decisions are permanent.\n",
    "\n",
    "While searching did it generate any ideas on interests or data sets you would like to explore? - If so you can add or replace a topic to the dictionary above!\n",
    "\n",
    "\n",
    "Example\"\n",
    "\n",
    "```python\n",
    "datasets = {\n",
    "    \"Cats\" : [\"https://www.kaggle.com/datasets/ma7555/cat-breeds-dataset\", \"https://example.com\", \"https://example.com\", \"Create my own data\"],\n",
    "\n",
    "    \"Second Topic\": [\"https://example.com\", \"https://example.com\", \"https://example.com\"],\n",
    "    \n",
    "    \"Third Topic\" : [\"https://example.com\", \"https://example.com\", \"https://example.com\"]\n",
    "}\n",
    "```\n"
   ]
  },
  {
   "cell_type": "code",
   "execution_count": 2,
   "metadata": {},
   "outputs": [],
   "source": [
    "def find_some_datasets():\n",
    "    datasets = {\n",
    "        \n",
    "        \"Rock Climbing\" : [\"https://www.kaggle.com/datasets/brkurzawa/ifsc-sport-climbing-competition-results\",\"https://www.kaggle.com/datasets/tomasslama/indoor-climbing-gym-hold-segmentation\",\"https://www.kaggle.com/datasets/anthonygiorgio/ifsc-climbing-competition-results-1991-2019\"],\n",
    "\n",
    "        \"Music\" : [\"https://www.kaggle.com/code/amiraadel21000/students-performance\",\"https://www.kaggle.com/code/annastasy/predicting-students-grades\",\"https://www.kaggle.com/datasets/sids04/ai-generated-psychology-participants-personality\"],\n",
    "        \n",
    "        \"Education\" : [\"https://www.kaggle.com/code/bhartiprasad17/student-academic-performance-analysis\", \"https://www.kaggle.com/code/mdismielhossenabir/student-exam-performance-prediction\",\"https://www.kaggle.com/datasets/asaniczka/wages-by-education-in-the-usa-1973-2022\"],\n",
    "\n",
    "        \"Company Optimization\" : [\"https://www.kaggle.com/datasets/gaurav9712/50-startups\",\"https://www.kaggle.com/datasets/ksabishek/product-sales-data\",\"https://www.kaggle.com/datasets/datazng/shopping-mall-customer-data-segmentation-analysis\"],\n",
    "\n",
    "        \"Environmentalism\" : [\"https://www.kaggle.com/datasets/milankalkenings/litter-on-forest-floor\",\"https://www.kaggle.com/datasets/humansintheloop/recycling-dataset\",\"https://www.kaggle.com/datasets/vencerlanz09/taco-dataset-yolo-format\"]\n",
    "        \n",
    "    }\n",
    "    return datasets"
   ]
  },
  {
   "cell_type": "markdown",
   "metadata": {},
   "source": [
    "## Asking questions about your dataset\n",
    "\n",
    "Some questions you might want to ask for each dataset are:\n",
    "- Who created this dataset?\n",
    "- When was this dataset created?\n",
    "- Could there be any biases when creating this dataset?\n",
    "- How was this data collected?\n",
    "- Is this data representative of the problem I am trying to solve?\n"
   ]
  }
 ],
 "metadata": {
  "kernelspec": {
   "display_name": "Python 3",
   "language": "python",
   "name": "python3"
  },
  "language_info": {
   "codemirror_mode": {
    "name": "ipython",
    "version": 3
   },
   "file_extension": ".py",
   "mimetype": "text/x-python",
   "name": "python",
   "nbconvert_exporter": "python",
   "pygments_lexer": "ipython3",
   "version": "3.11.9"
  }
 },
 "nbformat": 4,
 "nbformat_minor": 2
}
